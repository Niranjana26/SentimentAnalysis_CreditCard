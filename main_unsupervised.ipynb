{
 "cells": [
  {
   "cell_type": "markdown",
   "metadata": {},
   "source": [
    "# Necessary Imports"
   ]
  },
  {
   "cell_type": "code",
   "execution_count": 24,
   "metadata": {},
   "outputs": [],
   "source": [
    "import numpy as np\n",
    "import pandas as pd\n",
    "import nltk\n",
    "import matplotlib.pyplot as plt\n",
    "from sklearn.feature_extraction.text import TfidfVectorizer\n",
    "from sklearn.pipeline import Pipeline\n",
    "from sklearn.model_selection import GridSearchCV\n",
    "from nltk.corpus import stopwords\n",
    "from nltk.tokenize import word_tokenize\n",
    "from nltk.stem import WordNetLemmatizer\n",
    "from sklearn.cluster import Birch\n",
    "from sklearn.cluster import AgglomerativeClustering\n",
    "from sklearn.feature_extraction.text import TfidfVectorizer\n",
    "from sklearn.cluster import KMeans\n",
    "from nltk.sentiment import SentimentIntensityAnalyzer\n",
    "from vaderSentiment.vaderSentiment import SentimentIntensityAnalyzer\n"
   ]
  },
  {
   "cell_type": "markdown",
   "metadata": {},
   "source": [
    "## Read the File"
   ]
  },
  {
   "cell_type": "code",
   "execution_count": 2,
   "metadata": {},
   "outputs": [
    {
     "data": {
      "text/html": [
       "<div>\n",
       "<style scoped>\n",
       "    .dataframe tbody tr th:only-of-type {\n",
       "        vertical-align: middle;\n",
       "    }\n",
       "\n",
       "    .dataframe tbody tr th {\n",
       "        vertical-align: top;\n",
       "    }\n",
       "\n",
       "    .dataframe thead th {\n",
       "        text-align: right;\n",
       "    }\n",
       "</style>\n",
       "<table border=\"1\" class=\"dataframe\">\n",
       "  <thead>\n",
       "    <tr style=\"text-align: right;\">\n",
       "      <th></th>\n",
       "      <th>Unnamed: 0</th>\n",
       "      <th>Reviews</th>\n",
       "      <th>Bank</th>\n",
       "    </tr>\n",
       "  </thead>\n",
       "  <tbody>\n",
       "    <tr>\n",
       "      <th>0</th>\n",
       "      <td>0</td>\n",
       "      <td>Rbl bank credit card no response for customer ...</td>\n",
       "      <td>RBL-Bank-Fun-Credit-Card</td>\n",
       "    </tr>\n",
       "    <tr>\n",
       "      <th>1</th>\n",
       "      <td>1</td>\n",
       "      <td>I am eligible RBL credit card but I have no re...</td>\n",
       "      <td>RBL-Bank-Fun-Credit-Card</td>\n",
       "    </tr>\n",
       "    <tr>\n",
       "      <th>2</th>\n",
       "      <td>2</td>\n",
       "      <td>Don’t go for this credit card at all even if t...</td>\n",
       "      <td>RBL-Bank-Fun-Credit-Card</td>\n",
       "    </tr>\n",
       "    <tr>\n",
       "      <th>3</th>\n",
       "      <td>3</td>\n",
       "      <td>They only professional to cheat you by putting...</td>\n",
       "      <td>RBL-Bank-Fun-Credit-Card</td>\n",
       "    </tr>\n",
       "    <tr>\n",
       "      <th>4</th>\n",
       "      <td>4</td>\n",
       "      <td>Overall conclusion is the person who use this ...</td>\n",
       "      <td>RBL-Bank-Fun-Credit-Card</td>\n",
       "    </tr>\n",
       "    <tr>\n",
       "      <th>...</th>\n",
       "      <td>...</td>\n",
       "      <td>...</td>\n",
       "      <td>...</td>\n",
       "    </tr>\n",
       "    <tr>\n",
       "      <th>2695</th>\n",
       "      <td>2695</td>\n",
       "      <td>The worst card you can ever have.  They will d...</td>\n",
       "      <td>RBL-Bank-Fun-Credit-Card</td>\n",
       "    </tr>\n",
       "    <tr>\n",
       "      <th>2696</th>\n",
       "      <td>2696</td>\n",
       "      <td>I was told 20000reward points as welcome gift ...</td>\n",
       "      <td>RBL-Bank-Fun-Credit-Card</td>\n",
       "    </tr>\n",
       "    <tr>\n",
       "      <th>2697</th>\n",
       "      <td>2697</td>\n",
       "      <td>But it is a lie</td>\n",
       "      <td>RBL-Bank-Fun-Credit-Card</td>\n",
       "    </tr>\n",
       "    <tr>\n",
       "      <th>2698</th>\n",
       "      <td>2698</td>\n",
       "      <td>This is worst and poor bank I have ever seen f...</td>\n",
       "      <td>RBL-Bank-Fun-Credit-Card</td>\n",
       "    </tr>\n",
       "    <tr>\n",
       "      <th>2699</th>\n",
       "      <td>2699</td>\n",
       "      <td>Third Card Service we never recommend to my fr...</td>\n",
       "      <td>RBL-Bank-Fun-Credit-Card</td>\n",
       "    </tr>\n",
       "  </tbody>\n",
       "</table>\n",
       "<p>2700 rows × 3 columns</p>\n",
       "</div>"
      ],
      "text/plain": [
       "      Unnamed: 0                                            Reviews  \\\n",
       "0              0  Rbl bank credit card no response for customer ...   \n",
       "1              1  I am eligible RBL credit card but I have no re...   \n",
       "2              2  Don’t go for this credit card at all even if t...   \n",
       "3              3  They only professional to cheat you by putting...   \n",
       "4              4  Overall conclusion is the person who use this ...   \n",
       "...          ...                                                ...   \n",
       "2695        2695  The worst card you can ever have.  They will d...   \n",
       "2696        2696  I was told 20000reward points as welcome gift ...   \n",
       "2697        2697                                    But it is a lie   \n",
       "2698        2698  This is worst and poor bank I have ever seen f...   \n",
       "2699        2699  Third Card Service we never recommend to my fr...   \n",
       "\n",
       "                          Bank  \n",
       "0     RBL-Bank-Fun-Credit-Card  \n",
       "1     RBL-Bank-Fun-Credit-Card  \n",
       "2     RBL-Bank-Fun-Credit-Card  \n",
       "3     RBL-Bank-Fun-Credit-Card  \n",
       "4     RBL-Bank-Fun-Credit-Card  \n",
       "...                        ...  \n",
       "2695  RBL-Bank-Fun-Credit-Card  \n",
       "2696  RBL-Bank-Fun-Credit-Card  \n",
       "2697  RBL-Bank-Fun-Credit-Card  \n",
       "2698  RBL-Bank-Fun-Credit-Card  \n",
       "2699  RBL-Bank-Fun-Credit-Card  \n",
       "\n",
       "[2700 rows x 3 columns]"
      ]
     },
     "execution_count": 2,
     "metadata": {},
     "output_type": "execute_result"
    }
   ],
   "source": [
    "df=pd.read_csv(\"review_final.csv\")\n",
    "df"
   ]
  },
  {
   "cell_type": "markdown",
   "metadata": {},
   "source": [
    "## Drop Unncessary columns"
   ]
  },
  {
   "cell_type": "code",
   "execution_count": 3,
   "metadata": {},
   "outputs": [
    {
     "data": {
      "text/html": [
       "<div>\n",
       "<style scoped>\n",
       "    .dataframe tbody tr th:only-of-type {\n",
       "        vertical-align: middle;\n",
       "    }\n",
       "\n",
       "    .dataframe tbody tr th {\n",
       "        vertical-align: top;\n",
       "    }\n",
       "\n",
       "    .dataframe thead th {\n",
       "        text-align: right;\n",
       "    }\n",
       "</style>\n",
       "<table border=\"1\" class=\"dataframe\">\n",
       "  <thead>\n",
       "    <tr style=\"text-align: right;\">\n",
       "      <th></th>\n",
       "      <th>Reviews</th>\n",
       "      <th>Bank</th>\n",
       "    </tr>\n",
       "  </thead>\n",
       "  <tbody>\n",
       "    <tr>\n",
       "      <th>0</th>\n",
       "      <td>Rbl bank credit card no response for customer ...</td>\n",
       "      <td>RBL-Bank-Fun-Credit-Card</td>\n",
       "    </tr>\n",
       "    <tr>\n",
       "      <th>1</th>\n",
       "      <td>I am eligible RBL credit card but I have no re...</td>\n",
       "      <td>RBL-Bank-Fun-Credit-Card</td>\n",
       "    </tr>\n",
       "    <tr>\n",
       "      <th>2</th>\n",
       "      <td>Don’t go for this credit card at all even if t...</td>\n",
       "      <td>RBL-Bank-Fun-Credit-Card</td>\n",
       "    </tr>\n",
       "    <tr>\n",
       "      <th>3</th>\n",
       "      <td>They only professional to cheat you by putting...</td>\n",
       "      <td>RBL-Bank-Fun-Credit-Card</td>\n",
       "    </tr>\n",
       "    <tr>\n",
       "      <th>4</th>\n",
       "      <td>Overall conclusion is the person who use this ...</td>\n",
       "      <td>RBL-Bank-Fun-Credit-Card</td>\n",
       "    </tr>\n",
       "    <tr>\n",
       "      <th>...</th>\n",
       "      <td>...</td>\n",
       "      <td>...</td>\n",
       "    </tr>\n",
       "    <tr>\n",
       "      <th>2695</th>\n",
       "      <td>The worst card you can ever have.  They will d...</td>\n",
       "      <td>RBL-Bank-Fun-Credit-Card</td>\n",
       "    </tr>\n",
       "    <tr>\n",
       "      <th>2696</th>\n",
       "      <td>I was told 20000reward points as welcome gift ...</td>\n",
       "      <td>RBL-Bank-Fun-Credit-Card</td>\n",
       "    </tr>\n",
       "    <tr>\n",
       "      <th>2697</th>\n",
       "      <td>But it is a lie</td>\n",
       "      <td>RBL-Bank-Fun-Credit-Card</td>\n",
       "    </tr>\n",
       "    <tr>\n",
       "      <th>2698</th>\n",
       "      <td>This is worst and poor bank I have ever seen f...</td>\n",
       "      <td>RBL-Bank-Fun-Credit-Card</td>\n",
       "    </tr>\n",
       "    <tr>\n",
       "      <th>2699</th>\n",
       "      <td>Third Card Service we never recommend to my fr...</td>\n",
       "      <td>RBL-Bank-Fun-Credit-Card</td>\n",
       "    </tr>\n",
       "  </tbody>\n",
       "</table>\n",
       "<p>2700 rows × 2 columns</p>\n",
       "</div>"
      ],
      "text/plain": [
       "                                                Reviews  \\\n",
       "0     Rbl bank credit card no response for customer ...   \n",
       "1     I am eligible RBL credit card but I have no re...   \n",
       "2     Don’t go for this credit card at all even if t...   \n",
       "3     They only professional to cheat you by putting...   \n",
       "4     Overall conclusion is the person who use this ...   \n",
       "...                                                 ...   \n",
       "2695  The worst card you can ever have.  They will d...   \n",
       "2696  I was told 20000reward points as welcome gift ...   \n",
       "2697                                    But it is a lie   \n",
       "2698  This is worst and poor bank I have ever seen f...   \n",
       "2699  Third Card Service we never recommend to my fr...   \n",
       "\n",
       "                          Bank  \n",
       "0     RBL-Bank-Fun-Credit-Card  \n",
       "1     RBL-Bank-Fun-Credit-Card  \n",
       "2     RBL-Bank-Fun-Credit-Card  \n",
       "3     RBL-Bank-Fun-Credit-Card  \n",
       "4     RBL-Bank-Fun-Credit-Card  \n",
       "...                        ...  \n",
       "2695  RBL-Bank-Fun-Credit-Card  \n",
       "2696  RBL-Bank-Fun-Credit-Card  \n",
       "2697  RBL-Bank-Fun-Credit-Card  \n",
       "2698  RBL-Bank-Fun-Credit-Card  \n",
       "2699  RBL-Bank-Fun-Credit-Card  \n",
       "\n",
       "[2700 rows x 2 columns]"
      ]
     },
     "execution_count": 3,
     "metadata": {},
     "output_type": "execute_result"
    }
   ],
   "source": [
    "df=df.drop(columns=\"Unnamed: 0\")\n",
    "df"
   ]
  },
  {
   "cell_type": "markdown",
   "metadata": {},
   "source": [
    "## Download Necessary Packages"
   ]
  },
  {
   "cell_type": "code",
   "execution_count": 4,
   "metadata": {},
   "outputs": [
    {
     "name": "stderr",
     "output_type": "stream",
     "text": [
      "[nltk_data] Downloading package stopwords to\n",
      "[nltk_data]     C:\\Users\\niran\\AppData\\Roaming\\nltk_data...\n",
      "[nltk_data]   Package stopwords is already up-to-date!\n",
      "[nltk_data] Downloading package punkt to\n",
      "[nltk_data]     C:\\Users\\niran\\AppData\\Roaming\\nltk_data...\n",
      "[nltk_data]   Package punkt is already up-to-date!\n",
      "[nltk_data] Downloading package wordnet to\n",
      "[nltk_data]     C:\\Users\\niran\\AppData\\Roaming\\nltk_data...\n",
      "[nltk_data]   Package wordnet is already up-to-date!\n"
     ]
    },
    {
     "data": {
      "text/plain": [
       "True"
      ]
     },
     "execution_count": 4,
     "metadata": {},
     "output_type": "execute_result"
    }
   ],
   "source": [
    "nltk.download('stopwords')\n",
    "nltk.download('punkt')\n",
    "nltk.download('wordnet')"
   ]
  },
  {
   "cell_type": "markdown",
   "metadata": {},
   "source": [
    "## Text Preprocessing"
   ]
  },
  {
   "cell_type": "code",
   "execution_count": 5,
   "metadata": {},
   "outputs": [],
   "source": [
    "stop_words = set(stopwords.words('english'))\n",
    "lemmatizer = WordNetLemmatizer()"
   ]
  },
  {
   "cell_type": "code",
   "execution_count": 6,
   "metadata": {},
   "outputs": [
    {
     "data": {
      "text/html": [
       "<div>\n",
       "<style scoped>\n",
       "    .dataframe tbody tr th:only-of-type {\n",
       "        vertical-align: middle;\n",
       "    }\n",
       "\n",
       "    .dataframe tbody tr th {\n",
       "        vertical-align: top;\n",
       "    }\n",
       "\n",
       "    .dataframe thead th {\n",
       "        text-align: right;\n",
       "    }\n",
       "</style>\n",
       "<table border=\"1\" class=\"dataframe\">\n",
       "  <thead>\n",
       "    <tr style=\"text-align: right;\">\n",
       "      <th></th>\n",
       "      <th>Reviews</th>\n",
       "      <th>Bank</th>\n",
       "      <th>cleaned_review</th>\n",
       "    </tr>\n",
       "  </thead>\n",
       "  <tbody>\n",
       "    <tr>\n",
       "      <th>0</th>\n",
       "      <td>Rbl bank credit card no response for customer ...</td>\n",
       "      <td>RBL-Bank-Fun-Credit-Card</td>\n",
       "      <td>rbl bank credit card response customer bad ser...</td>\n",
       "    </tr>\n",
       "    <tr>\n",
       "      <th>1</th>\n",
       "      <td>I am eligible RBL credit card but I have no re...</td>\n",
       "      <td>RBL-Bank-Fun-Credit-Card</td>\n",
       "      <td>eligible rbl credit card received card applica...</td>\n",
       "    </tr>\n",
       "    <tr>\n",
       "      <th>2</th>\n",
       "      <td>Don’t go for this credit card at all even if t...</td>\n",
       "      <td>RBL-Bank-Fun-Credit-Card</td>\n",
       "      <td>go credit card even give reward use</td>\n",
       "    </tr>\n",
       "    <tr>\n",
       "      <th>3</th>\n",
       "      <td>They only professional to cheat you by putting...</td>\n",
       "      <td>RBL-Bank-Fun-Credit-Card</td>\n",
       "      <td>professional cheat putting fake charge fake cu...</td>\n",
       "    </tr>\n",
       "    <tr>\n",
       "      <th>4</th>\n",
       "      <td>Overall conclusion is the person who use this ...</td>\n",
       "      <td>RBL-Bank-Fun-Credit-Card</td>\n",
       "      <td>overall conclusion person use credit card real...</td>\n",
       "    </tr>\n",
       "    <tr>\n",
       "      <th>...</th>\n",
       "      <td>...</td>\n",
       "      <td>...</td>\n",
       "      <td>...</td>\n",
       "    </tr>\n",
       "    <tr>\n",
       "      <th>2695</th>\n",
       "      <td>The worst card you can ever have.  They will d...</td>\n",
       "      <td>RBL-Bank-Fun-Credit-Card</td>\n",
       "      <td>worst card ever mi selling</td>\n",
       "    </tr>\n",
       "    <tr>\n",
       "      <th>2696</th>\n",
       "      <td>I was told 20000reward points as welcome gift ...</td>\n",
       "      <td>RBL-Bank-Fun-Credit-Card</td>\n",
       "      <td>told point welcome gift spend</td>\n",
       "    </tr>\n",
       "    <tr>\n",
       "      <th>2697</th>\n",
       "      <td>But it is a lie</td>\n",
       "      <td>RBL-Bank-Fun-Credit-Card</td>\n",
       "      <td>lie</td>\n",
       "    </tr>\n",
       "    <tr>\n",
       "      <th>2698</th>\n",
       "      <td>This is worst and poor bank I have ever seen f...</td>\n",
       "      <td>RBL-Bank-Fun-Credit-Card</td>\n",
       "      <td>worst poor bank ever seen harass least barrier...</td>\n",
       "    </tr>\n",
       "    <tr>\n",
       "      <th>2699</th>\n",
       "      <td>Third Card Service we never recommend to my fr...</td>\n",
       "      <td>RBL-Bank-Fun-Credit-Card</td>\n",
       "      <td>third card service never recommend friend fami...</td>\n",
       "    </tr>\n",
       "  </tbody>\n",
       "</table>\n",
       "<p>2700 rows × 3 columns</p>\n",
       "</div>"
      ],
      "text/plain": [
       "                                                Reviews  \\\n",
       "0     Rbl bank credit card no response for customer ...   \n",
       "1     I am eligible RBL credit card but I have no re...   \n",
       "2     Don’t go for this credit card at all even if t...   \n",
       "3     They only professional to cheat you by putting...   \n",
       "4     Overall conclusion is the person who use this ...   \n",
       "...                                                 ...   \n",
       "2695  The worst card you can ever have.  They will d...   \n",
       "2696  I was told 20000reward points as welcome gift ...   \n",
       "2697                                    But it is a lie   \n",
       "2698  This is worst and poor bank I have ever seen f...   \n",
       "2699  Third Card Service we never recommend to my fr...   \n",
       "\n",
       "                          Bank  \\\n",
       "0     RBL-Bank-Fun-Credit-Card   \n",
       "1     RBL-Bank-Fun-Credit-Card   \n",
       "2     RBL-Bank-Fun-Credit-Card   \n",
       "3     RBL-Bank-Fun-Credit-Card   \n",
       "4     RBL-Bank-Fun-Credit-Card   \n",
       "...                        ...   \n",
       "2695  RBL-Bank-Fun-Credit-Card   \n",
       "2696  RBL-Bank-Fun-Credit-Card   \n",
       "2697  RBL-Bank-Fun-Credit-Card   \n",
       "2698  RBL-Bank-Fun-Credit-Card   \n",
       "2699  RBL-Bank-Fun-Credit-Card   \n",
       "\n",
       "                                         cleaned_review  \n",
       "0     rbl bank credit card response customer bad ser...  \n",
       "1     eligible rbl credit card received card applica...  \n",
       "2                   go credit card even give reward use  \n",
       "3     professional cheat putting fake charge fake cu...  \n",
       "4     overall conclusion person use credit card real...  \n",
       "...                                                 ...  \n",
       "2695                         worst card ever mi selling  \n",
       "2696                      told point welcome gift spend  \n",
       "2697                                                lie  \n",
       "2698  worst poor bank ever seen harass least barrier...  \n",
       "2699  third card service never recommend friend fami...  \n",
       "\n",
       "[2700 rows x 3 columns]"
      ]
     },
     "execution_count": 6,
     "metadata": {},
     "output_type": "execute_result"
    }
   ],
   "source": [
    "def preprocess_text(text):\n",
    "    words = word_tokenize(text.lower())  \n",
    "    words = [word for word in words if word.isalpha()]  \n",
    "    words = [word for word in words if word not in stop_words]  \n",
    "    words = [lemmatizer.lemmatize(word) for word in words]  \n",
    "    return ' '.join(words)\n",
    "\n",
    "df['cleaned_review'] = df['Reviews'].apply(preprocess_text)\n",
    "df"
   ]
  },
  {
   "cell_type": "markdown",
   "metadata": {},
   "source": [
    "## TF-IDF Vectorization"
   ]
  },
  {
   "cell_type": "code",
   "execution_count": 7,
   "metadata": {},
   "outputs": [],
   "source": [
    "tfidf_vectorizer = TfidfVectorizer(max_df=0.8, min_df=2, stop_words='english')\n",
    "tfidf_matrix = tfidf_vectorizer.fit_transform(df['cleaned_review'])"
   ]
  },
  {
   "cell_type": "markdown",
   "metadata": {},
   "source": [
    "## 1)K-Means Clustering"
   ]
  },
  {
   "cell_type": "code",
   "execution_count": 8,
   "metadata": {},
   "outputs": [],
   "source": [
    "kmeans_num_clusters = 5  \n",
    "kmeans = KMeans(n_clusters=kmeans_num_clusters)\n",
    "kmeans_cluster_labels=kmeans.fit_predict(tfidf_matrix)\n",
    "\n",
    "\n",
    "\n"
   ]
  },
  {
   "cell_type": "code",
   "execution_count": 9,
   "metadata": {},
   "outputs": [],
   "source": [
    "# sentiment(kmeans_cluster_labels,kmeans_num_clusters,df)"
   ]
  },
  {
   "cell_type": "markdown",
   "metadata": {},
   "source": [
    "## 2)Agglomerative Clustering"
   ]
  },
  {
   "cell_type": "code",
   "execution_count": 10,
   "metadata": {},
   "outputs": [],
   "source": [
    "hier_num_clusters = 5  \n",
    "hierarchical = AgglomerativeClustering(n_clusters=hier_num_clusters)\n",
    "hier_cluster_labels = hierarchical.fit_predict(tfidf_matrix.toarray())\n",
    "\n"
   ]
  },
  {
   "cell_type": "markdown",
   "metadata": {},
   "source": [
    "## 3)BIRCH"
   ]
  },
  {
   "cell_type": "code",
   "execution_count": 11,
   "metadata": {},
   "outputs": [],
   "source": [
    "birch_num_clusters=5\n",
    "model = Birch(threshold=0.01, n_clusters=birch_num_clusters)\n",
    "birch_cluster_labels = model.fit_predict(tfidf_matrix.toarray())\n"
   ]
  },
  {
   "cell_type": "code",
   "execution_count": 12,
   "metadata": {},
   "outputs": [
    {
     "data": {
      "text/plain": [
       "{0, 1, 2, 3, 4}"
      ]
     },
     "execution_count": 12,
     "metadata": {},
     "output_type": "execute_result"
    }
   ],
   "source": [
    "set(birch_cluster_labels)"
   ]
  },
  {
   "cell_type": "markdown",
   "metadata": {},
   "source": [
    "## 4)BERT - Transformer Model"
   ]
  },
  {
   "cell_type": "code",
   "execution_count": 13,
   "metadata": {},
   "outputs": [
    {
     "name": "stdout",
     "output_type": "stream",
     "text": [
      "Defaulting to user installation because normal site-packages is not writeable\n",
      "Requirement already satisfied: torch in c:\\users\\niran\\appdata\\roaming\\python\\python312\\site-packages (2.2.1)\n",
      "Requirement already satisfied: torchvision in c:\\users\\niran\\appdata\\roaming\\python\\python312\\site-packages (0.17.1)\n",
      "Requirement already satisfied: torchaudio in c:\\users\\niran\\appdata\\roaming\\python\\python312\\site-packages (2.2.1)\n",
      "Requirement already satisfied: filelock in c:\\users\\niran\\appdata\\roaming\\python\\python312\\site-packages (from torch) (3.13.1)\n",
      "Requirement already satisfied: typing-extensions>=4.8.0 in c:\\users\\niran\\appdata\\roaming\\python\\python312\\site-packages (from torch) (4.9.0)\n",
      "Requirement already satisfied: sympy in c:\\users\\niran\\appdata\\roaming\\python\\python312\\site-packages (from torch) (1.12)\n",
      "Requirement already satisfied: networkx in c:\\users\\niran\\appdata\\roaming\\python\\python312\\site-packages (from torch) (3.2.1)\n",
      "Requirement already satisfied: jinja2 in c:\\users\\niran\\appdata\\roaming\\python\\python312\\site-packages (from torch) (3.1.3)\n",
      "Requirement already satisfied: fsspec in c:\\users\\niran\\appdata\\roaming\\python\\python312\\site-packages (from torch) (2024.2.0)\n",
      "Requirement already satisfied: numpy in c:\\users\\niran\\appdata\\roaming\\python\\python312\\site-packages (from torchvision) (1.26.4)\n",
      "Requirement already satisfied: pillow!=8.3.*,>=5.3.0 in c:\\users\\niran\\appdata\\roaming\\python\\python312\\site-packages (from torchvision) (10.2.0)\n",
      "Requirement already satisfied: MarkupSafe>=2.0 in c:\\users\\niran\\appdata\\roaming\\python\\python312\\site-packages (from jinja2->torch) (2.1.5)\n",
      "Requirement already satisfied: mpmath>=0.19 in c:\\users\\niran\\appdata\\roaming\\python\\python312\\site-packages (from sympy->torch) (1.3.0)\n",
      "Note: you may need to restart the kernel to use updated packages.\n"
     ]
    }
   ],
   "source": [
    "pip install torch torchvision torchaudio"
   ]
  },
  {
   "cell_type": "code",
   "execution_count": 14,
   "metadata": {},
   "outputs": [
    {
     "name": "stdout",
     "output_type": "stream",
     "text": [
      "Defaulting to user installation because normal site-packages is not writeableNote: you may need to restart the kernel to use updated packages.\n",
      "\n",
      "Requirement already satisfied: transformers in c:\\users\\niran\\appdata\\roaming\\python\\python312\\site-packages (4.38.2)\n",
      "Requirement already satisfied: filelock in c:\\users\\niran\\appdata\\roaming\\python\\python312\\site-packages (from transformers) (3.13.1)\n",
      "Requirement already satisfied: huggingface-hub<1.0,>=0.19.3 in c:\\users\\niran\\appdata\\roaming\\python\\python312\\site-packages (from transformers) (0.21.4)\n",
      "Requirement already satisfied: numpy>=1.17 in c:\\users\\niran\\appdata\\roaming\\python\\python312\\site-packages (from transformers) (1.26.4)\n",
      "Requirement already satisfied: packaging>=20.0 in c:\\users\\niran\\appdata\\roaming\\python\\python312\\site-packages (from transformers) (23.2)\n",
      "Requirement already satisfied: pyyaml>=5.1 in c:\\users\\niran\\appdata\\roaming\\python\\python312\\site-packages (from transformers) (6.0.1)\n",
      "Requirement already satisfied: regex!=2019.12.17 in c:\\users\\niran\\appdata\\roaming\\python\\python312\\site-packages (from transformers) (2023.12.25)\n",
      "Requirement already satisfied: requests in c:\\users\\niran\\appdata\\roaming\\python\\python312\\site-packages (from transformers) (2.31.0)\n",
      "Requirement already satisfied: tokenizers<0.19,>=0.14 in c:\\users\\niran\\appdata\\roaming\\python\\python312\\site-packages (from transformers) (0.15.2)\n",
      "Requirement already satisfied: safetensors>=0.4.1 in c:\\users\\niran\\appdata\\roaming\\python\\python312\\site-packages (from transformers) (0.4.2)\n",
      "Requirement already satisfied: tqdm>=4.27 in c:\\users\\niran\\appdata\\roaming\\python\\python312\\site-packages (from transformers) (4.66.2)\n",
      "Requirement already satisfied: fsspec>=2023.5.0 in c:\\users\\niran\\appdata\\roaming\\python\\python312\\site-packages (from huggingface-hub<1.0,>=0.19.3->transformers) (2024.2.0)\n",
      "Requirement already satisfied: typing-extensions>=3.7.4.3 in c:\\users\\niran\\appdata\\roaming\\python\\python312\\site-packages (from huggingface-hub<1.0,>=0.19.3->transformers) (4.9.0)\n",
      "Requirement already satisfied: colorama in c:\\users\\niran\\appdata\\roaming\\python\\python312\\site-packages (from tqdm>=4.27->transformers) (0.4.6)\n",
      "Requirement already satisfied: charset-normalizer<4,>=2 in c:\\users\\niran\\appdata\\roaming\\python\\python312\\site-packages (from requests->transformers) (3.3.2)\n",
      "Requirement already satisfied: idna<4,>=2.5 in c:\\users\\niran\\appdata\\roaming\\python\\python312\\site-packages (from requests->transformers) (3.6)\n",
      "Requirement already satisfied: urllib3<3,>=1.21.1 in c:\\users\\niran\\appdata\\roaming\\python\\python312\\site-packages (from requests->transformers) (2.2.1)\n",
      "Requirement already satisfied: certifi>=2017.4.17 in c:\\users\\niran\\appdata\\roaming\\python\\python312\\site-packages (from requests->transformers) (2024.2.2)\n"
     ]
    }
   ],
   "source": [
    "pip install transformers"
   ]
  },
  {
   "cell_type": "code",
   "execution_count": 15,
   "metadata": {},
   "outputs": [
    {
     "name": "stderr",
     "output_type": "stream",
     "text": [
      "C:\\Users\\niran\\AppData\\Roaming\\Python\\Python312\\site-packages\\tqdm\\auto.py:21: TqdmWarning: IProgress not found. Please update jupyter and ipywidgets. See https://ipywidgets.readthedocs.io/en/stable/user_install.html\n",
      "  from .autonotebook import tqdm as notebook_tqdm\n"
     ]
    }
   ],
   "source": [
    "from transformers import AutoTokenizer,AutoModelForSequenceClassification\n",
    "import torch"
   ]
  },
  {
   "cell_type": "code",
   "execution_count": 16,
   "metadata": {},
   "outputs": [],
   "source": [
    "tokenizer=AutoTokenizer.from_pretrained('nlptown/bert-base-multilingual-uncased-sentiment')\n",
    "model=AutoModelForSequenceClassification.from_pretrained('nlptown/bert-base-multilingual-uncased-sentiment')\n"
   ]
  },
  {
   "cell_type": "code",
   "execution_count": 17,
   "metadata": {},
   "outputs": [],
   "source": [
    "def sentiment_bert(review):\n",
    "    tokens=tokenizer.encode(review,return_tensors='pt')\n",
    "    result=model(tokens)\n",
    "    return int(torch.argmax(result.logits))"
   ]
  },
  {
   "cell_type": "code",
   "execution_count": 18,
   "metadata": {},
   "outputs": [
    {
     "data": {
      "text/plain": [
       "0       0\n",
       "1       4\n",
       "2       4\n",
       "3       0\n",
       "4       0\n",
       "       ..\n",
       "2695    0\n",
       "2696    4\n",
       "2697    2\n",
       "2698    0\n",
       "2699    0\n",
       "Name: cleaned_review, Length: 2700, dtype: int64"
      ]
     },
     "execution_count": 18,
     "metadata": {},
     "output_type": "execute_result"
    }
   ],
   "source": [
    "bert_cluster_labels=df['cleaned_review'].apply(lambda x: sentiment_bert(x[:2701]))\n",
    "bert_cluster_labels"
   ]
  },
  {
   "cell_type": "code",
   "execution_count": 19,
   "metadata": {},
   "outputs": [],
   "source": [
    "bert_cluster_labels=bert_cluster_labels.to_list()\n"
   ]
  },
  {
   "cell_type": "code",
   "execution_count": 20,
   "metadata": {},
   "outputs": [],
   "source": [
    "bert_cluster_labels = [np.int64(x) for x in bert_cluster_labels]\n"
   ]
  },
  {
   "cell_type": "markdown",
   "metadata": {},
   "source": [
    "## Function to Calculate Sentiment Scores per Cluster and Rank Banks"
   ]
  },
  {
   "cell_type": "code",
   "execution_count": 21,
   "metadata": {},
   "outputs": [],
   "source": [
    "def sentiment(cluster_labels,df):\n",
    "    sia = SentimentIntensityAnalyzer()\n",
    "    cluster_sentiments = {}\n",
    "    for cluster in set(cluster_labels):\n",
    "        cluster_reviews = df[cluster_labels == cluster]['cleaned_review']\n",
    "        cluster_bank_counts = df[cluster_labels == cluster]['Bank'].value_counts()\n",
    "        sentiment_scores = []\n",
    "        for review in cluster_reviews:\n",
    "            sentiment_score = sia.polarity_scores(review)['compound']\n",
    "            sentiment_scores.append(sentiment_score)\n",
    "        \n",
    "        avg_sentiment = sum(sentiment_scores) / len(sentiment_scores)\n",
    "        cluster_sentiments[cluster] = {'sentiment': avg_sentiment, 'bank_counts': cluster_bank_counts}\n",
    "    overall_bank_sentiments = {}\n",
    "    for cluster, info in cluster_sentiments.items():\n",
    "        for bank, count in info['bank_counts'].items():\n",
    "            if bank not in overall_bank_sentiments:\n",
    "                overall_bank_sentiments[bank] = 0\n",
    "            overall_bank_sentiments[bank] += info['sentiment'] * count\n",
    "    \n",
    "\n",
    "    ranked_banks = sorted(overall_bank_sentiments.items(), key=lambda x: x[1], reverse=True)\n",
    "    \n",
    "    print(\"Ranked Banks Based on Sentiment Analysis and Frequency Distribution:\")\n",
    "    for rank, (bank, sentiment_score) in enumerate(ranked_banks, start=1):\n",
    "        print(f\"{rank}. {bank}: {sentiment_score}\")\n",
    "    return ranked_banks\n",
    "        \n",
    "    "
   ]
  },
  {
   "cell_type": "markdown",
   "metadata": {},
   "source": [
    "## Finding Top 3 Cards "
   ]
  },
  {
   "cell_type": "code",
   "execution_count": 22,
   "metadata": {},
   "outputs": [],
   "source": [
    "def top3(cluster_label,df):\n",
    "    ranked_banks=sentiment(cluster_label,df)\n",
    "    return ranked_banks[:3]"
   ]
  },
  {
   "cell_type": "code",
   "execution_count": 25,
   "metadata": {},
   "outputs": [
    {
     "name": "stdout",
     "output_type": "stream",
     "text": [
      "Ranked Banks Based on Sentiment Analysis and Frequency Distribution:\n",
      "1. IndianOil-Citibank-Credit-Card: 58.553179579053776\n",
      "2. Kotak-Mahindra-Bank-Visa-Credit-Card: 42.20137188864874\n",
      "3. ICICI-Bank-Visa-Credit-Card: 31.172910137562333\n",
      "4. SBI-Visa-Credit-Card: 30.755513712424822\n",
      "5. RBL-Bank-Fun-Credit-Card: 28.33112954754514\n",
      "6. Citibank-Visa-Credit-Card: 18.12437759432928\n",
      "7. Bajaj-Finserv-RBL-Bank-SuperCard: 17.53873898243747\n",
      "8. Yes-Bank-American-Express-Credit-Card: 15.07654149697391\n",
      "9. Tata-Card: 12.883216204880187\n",
      "10. HDFC-Regalia-Credit-Card: 12.762499978176132\n",
      "11. Standard-Chartered-Visa-Credit-Card: 12.672817236938924\n",
      "12. HDFC-Bank-MoneyBack-Credit-Card: 11.8507007422415\n",
      "13. HDFC-Bank-Visa-Credit-Card: 11.673992808041561\n",
      "14. Axis-Bank-Visa-Credit-Card: 8.915268100888868\n",
      "15. SBI-Simply-Click-Credit-Card: 6.772637672666263\n",
      "16. SBI-SimplySave-Credit-Card: 6.742612070264229\n",
      "17. American-Express-Gift-Card: 4.246268825513203\n",
      "18. HDFC-Bank-ForexPlus-Card: 3.932002421460568\n",
      "19. IndusInd-Visa-Credit-Card: 3.862207800949297\n",
      "20. SBI-Prime-Credit-Card: 0.642113199003766\n",
      "Ranked Banks Based on Sentiment Analysis and Frequency Distribution:\n",
      "1. IndianOil-Citibank-Credit-Card: 62.080809001224736\n",
      "2. Kotak-Mahindra-Bank-Visa-Credit-Card: 41.20590884874465\n",
      "3. RBL-Bank-Fun-Credit-Card: 28.796371351500305\n",
      "4. Citibank-Visa-Credit-Card: 22.328585974280465\n",
      "5. Bajaj-Finserv-RBL-Bank-SuperCard: 20.531800930802206\n",
      "6. SBI-Visa-Credit-Card: 20.42035951112472\n",
      "7. Tata-Card: 18.416839266993264\n",
      "8. Yes-Bank-American-Express-Credit-Card: 17.442548233517044\n",
      "9. HDFC-Regalia-Credit-Card: 16.466947711777916\n",
      "10. Standard-Chartered-Visa-Credit-Card: 15.408897917942438\n",
      "11. HDFC-Bank-MoneyBack-Credit-Card: 15.064161812818943\n",
      "12. HDFC-Bank-Visa-Credit-Card: 10.826719595835886\n",
      "13. American-Express-Gift-Card: 9.484198928352725\n",
      "14. Axis-Bank-Visa-Credit-Card: 8.225351305980812\n",
      "15. SBI-Simply-Click-Credit-Card: 8.20965140620535\n",
      "16. HDFC-Bank-ForexPlus-Card: 7.9230636099203915\n",
      "17. SBI-SimplySave-Credit-Card: 7.128608434782609\n",
      "18. IndusInd-Visa-Credit-Card: 4.6232718409879565\n",
      "19. ICICI-Bank-Visa-Credit-Card: 2.8128304041641137\n",
      "20. SBI-Prime-Credit-Card: 1.3131739130434783\n",
      "Ranked Banks Based on Sentiment Analysis and Frequency Distribution:\n",
      "1. IndianOil-Citibank-Credit-Card: 56.11113680129523\n",
      "2. Kotak-Mahindra-Bank-Visa-Credit-Card: 33.88310094302913\n",
      "3. SBI-Visa-Credit-Card: 30.700278839202355\n",
      "4. RBL-Bank-Fun-Credit-Card: 28.085702123484346\n",
      "5. Citibank-Visa-Credit-Card: 22.045199791110107\n",
      "6. Bajaj-Finserv-RBL-Bank-SuperCard: 21.243215782456268\n",
      "7. ICICI-Bank-Visa-Credit-Card: 19.610621540450833\n",
      "8. HDFC-Regalia-Credit-Card: 17.066752658810582\n",
      "9. Tata-Card: 16.632786086883875\n",
      "10. HDFC-Bank-MoneyBack-Credit-Card: 14.912507307065852\n",
      "11. Yes-Bank-American-Express-Credit-Card: 14.256828766276957\n",
      "12. American-Express-Gift-Card: 9.999431497563922\n",
      "13. Standard-Chartered-Visa-Credit-Card: 9.745049000935968\n",
      "14. HDFC-Bank-ForexPlus-Card: 9.019928978605432\n",
      "15. SBI-Simply-Click-Credit-Card: 8.507091553465436\n",
      "16. HDFC-Bank-Visa-Credit-Card: 8.482545336709684\n",
      "17. SBI-SimplySave-Credit-Card: 7.621498935003256\n",
      "18. Axis-Bank-Visa-Credit-Card: 5.569491736844484\n",
      "19. IndusInd-Visa-Credit-Card: 3.6066958179590727\n",
      "20. SBI-Prime-Credit-Card: 1.6102365028472465\n",
      "Ranked Banks Based on Sentiment Analysis and Frequency Distribution:\n",
      "1. IndianOil-Citibank-Credit-Card: 58.58288398788284\n",
      "2. SBI-Visa-Credit-Card: 37.361030499597774\n",
      "3. Kotak-Mahindra-Bank-Visa-Credit-Card: 34.99050027258668\n",
      "4. ICICI-Bank-Visa-Credit-Card: 25.16124069359732\n",
      "5. HDFC-Bank-MoneyBack-Credit-Card: 24.47800857355088\n",
      "6. Yes-Bank-American-Express-Credit-Card: 22.65744668366557\n",
      "7. Citibank-Visa-Credit-Card: 22.227833925391977\n",
      "8. Tata-Card: 20.462584645762142\n",
      "9. RBL-Bank-Fun-Credit-Card: 14.829235114115294\n",
      "10. Bajaj-Finserv-RBL-Bank-SuperCard: 12.490598855760524\n",
      "11. HDFC-Regalia-Credit-Card: 11.61535448244738\n",
      "12. American-Express-Gift-Card: 10.47468332892733\n",
      "13. HDFC-Bank-ForexPlus-Card: 10.237243435279169\n",
      "14. SBI-Simply-Click-Credit-Card: 7.442549259201529\n",
      "15. Standard-Chartered-Visa-Credit-Card: 6.663817632038304\n",
      "16. HDFC-Bank-Visa-Credit-Card: 6.213983093546542\n",
      "17. SBI-SimplySave-Credit-Card: 5.488872598314307\n",
      "18. Axis-Bank-Visa-Credit-Card: 4.400969088302859\n",
      "19. IndusInd-Visa-Credit-Card: 2.2691812815508614\n",
      "20. SBI-Prime-Credit-Card: 0.6620825484807193\n"
     ]
    }
   ],
   "source": [
    "top3_kmeans=top3(kmeans_cluster_labels,df)\n",
    "top3_hier=top3(hier_cluster_labels,df)\n",
    "top3_birch=top3(birch_cluster_labels,df)\n",
    "top3_bert=top3(bert_cluster_labels,df)"
   ]
  },
  {
   "cell_type": "code",
   "execution_count": 26,
   "metadata": {},
   "outputs": [],
   "source": [
    "from collections import Counter\n",
    "first=[]\n",
    "second=[]\n",
    "third=[]\n",
    "for i in [top3_kmeans,top3_hier,top3_birch,top3_bert]:\n",
    "    first.append(i[0][0])\n",
    "    second.append(i[1][0])\n",
    "    third.append(i[2][0])\n",
    "x=Counter(first)\n",
    "y=Counter(second)\n",
    "z=Counter(third)\n",
    "first_most_common=x.most_common(1)[0][0]\n",
    "second_most_common=y.most_common(1)[0][0]\n",
    "third_most_common=z.most_common(1)[0][0]"
   ]
  },
  {
   "cell_type": "code",
   "execution_count": 28,
   "metadata": {},
   "outputs": [],
   "source": [
    "first_filtered_reviews=df[df['Bank']==first_most_common]\n",
    "first_filtered_reviews=first_filtered_reviews[\"cleaned_review\"].to_list()\n",
    "second_filtered_reviews=df[df['Bank']==second_most_common]\n",
    "second_filtered_reviews=second_filtered_reviews[\"cleaned_review\"].to_list()\n",
    "third_filtered_reviews=df[df['Bank']==third_most_common]\n",
    "third_filtered_reviews=third_filtered_reviews[\"cleaned_review\"].to_list()\n",
    "dict_top3={first_most_common:first_filtered_reviews,second_most_common:second_filtered_reviews,third_most_common:third_filtered_reviews}"
   ]
  },
  {
   "cell_type": "markdown",
   "metadata": {},
   "source": [
    "## Finding Top 5 Positive Words in the reviews"
   ]
  },
  {
   "cell_type": "code",
   "execution_count": 29,
   "metadata": {},
   "outputs": [
    {
     "name": "stdout",
     "output_type": "stream",
     "text": [
      "Top 5 positive words:\n",
      "care: 116\n",
      "interest: 73\n",
      "like: 67\n",
      "reward: 56\n",
      "good: 40\n"
     ]
    }
   ],
   "source": [
    "all_reviews = [review for reviews_list in dict_top3.values() for review in reviews_list]\n",
    "stop_words = set(stopwords.words('english'))\n",
    "all_words = [word.lower() for review in all_reviews for word in word_tokenize(review) if word.isalnum() and word.lower() not in stop_words]\n",
    "sia = SentimentIntensityAnalyzer()\n",
    "positive_words = [word for word in all_words if sia.polarity_scores(word)['compound'] > 0]\n",
    "positive_word_freq = Counter(positive_words)\n",
    "top_positive_words = positive_word_freq.most_common(6)\n",
    "if top_positive_words:\n",
    "    top_positive_words=top_positive_words[1:]\n",
    "word_freq_by_card = {card_name: {word: positive_word_freq[word] for word, _ in top_positive_words} for card_name, reviews_list in dict_top3.items()}\n",
    "print(\"Top 5 positive words:\")\n",
    "for word, freq in top_positive_words:\n",
    "    print(f\"{word}: {freq}\")\n",
    "\n"
   ]
  },
  {
   "cell_type": "markdown",
   "metadata": {},
   "source": [
    "## Plotting Graph of Frequency Distribution"
   ]
  },
  {
   "cell_type": "code",
   "execution_count": 30,
   "metadata": {},
   "outputs": [
    {
     "data": {
      "image/png": "[encoded data removed]",
      "text/plain": [
       "<Figure size 640x480 with 1 Axes>"
      ]
     },
     "metadata": {},
     "output_type": "display_data"
    }
   ],
   "source": [
    "import matplotlib.pyplot as plt\n",
    "keys=[]\n",
    "values=[]\n",
    "for i,j in top_positive_words:\n",
    "    keys.append(i)\n",
    "    values.append(j)\n",
    "plt.bar(keys,values)\n",
    "plt.xlabel(\"Positive Words\")\n",
    "plt.ylabel(\"Frequency\")\n",
    "plt.title(\"Frequency of Positive Words in Top 3 Cards\")\n",
    "plt.show()"
   ]
  },
  {
   "cell_type": "code",
   "execution_count": 31,
   "metadata": {},
   "outputs": [
    {
     "name": "stdout",
     "output_type": "stream",
     "text": [
      "Defaulting to user installation because normal site-packages is not writeable\n",
      "Requirement already satisfied: squarify in c:\\users\\niran\\appdata\\roaming\\python\\python312\\site-packages (0.4.3)\n",
      "Note: you may need to restart the kernel to use updated packages.\n"
     ]
    }
   ],
   "source": [
    "pip install squarify"
   ]
  },
  {
   "cell_type": "code",
   "execution_count": 32,
   "metadata": {},
   "outputs": [
    {
     "data": {
      "image/png": "[encoded data removed]",
      "text/plain": [
       "<Figure size 640x480 with 1 Axes>"
      ]
     },
     "metadata": {},
     "output_type": "display_data"
    }
   ],
   "source": [
    "import squarify\n",
    "squarify.plot(sizes=values,label=keys,alpha=0.7)\n",
    "plt.title(\"Treemap of Positive Words in Top 3 Cards\")\n",
    "plt.show()"
   ]
  },
  {
   "cell_type": "code",
   "execution_count": 33,
   "metadata": {},
   "outputs": [
    {
     "name": "stdout",
     "output_type": "stream",
     "text": [
      "Ranked Banks Based on Sentiment Analysis and Frequency Distribution:\n",
      "1. IndianOil-Citibank-Credit-Card: 58.553179579053776\n",
      "2. Kotak-Mahindra-Bank-Visa-Credit-Card: 42.20137188864874\n",
      "3. ICICI-Bank-Visa-Credit-Card: 31.172910137562333\n",
      "4. SBI-Visa-Credit-Card: 30.755513712424822\n",
      "5. RBL-Bank-Fun-Credit-Card: 28.33112954754514\n",
      "6. Citibank-Visa-Credit-Card: 18.12437759432928\n",
      "7. Bajaj-Finserv-RBL-Bank-SuperCard: 17.53873898243747\n",
      "8. Yes-Bank-American-Express-Credit-Card: 15.07654149697391\n",
      "9. Tata-Card: 12.883216204880187\n",
      "10. HDFC-Regalia-Credit-Card: 12.762499978176132\n",
      "11. Standard-Chartered-Visa-Credit-Card: 12.672817236938924\n",
      "12. HDFC-Bank-MoneyBack-Credit-Card: 11.8507007422415\n",
      "13. HDFC-Bank-Visa-Credit-Card: 11.673992808041561\n",
      "14. Axis-Bank-Visa-Credit-Card: 8.915268100888868\n",
      "15. SBI-Simply-Click-Credit-Card: 6.772637672666263\n",
      "16. SBI-SimplySave-Credit-Card: 6.742612070264229\n",
      "17. American-Express-Gift-Card: 4.246268825513203\n",
      "18. HDFC-Bank-ForexPlus-Card: 3.932002421460568\n",
      "19. IndusInd-Visa-Credit-Card: 3.862207800949297\n",
      "20. SBI-Prime-Credit-Card: 0.642113199003766\n"
     ]
    },
    {
     "data": {
      "text/plain": [
       "[('IndianOil-Citibank-Credit-Card', 58.553179579053776),\n",
       " ('Kotak-Mahindra-Bank-Visa-Credit-Card', 42.20137188864874),\n",
       " ('ICICI-Bank-Visa-Credit-Card', 31.172910137562333),\n",
       " ('SBI-Visa-Credit-Card', 30.755513712424822),\n",
       " ('RBL-Bank-Fun-Credit-Card', 28.33112954754514),\n",
       " ('Citibank-Visa-Credit-Card', 18.12437759432928),\n",
       " ('Bajaj-Finserv-RBL-Bank-SuperCard', 17.53873898243747),\n",
       " ('Yes-Bank-American-Express-Credit-Card', 15.07654149697391),\n",
       " ('Tata-Card', 12.883216204880187),\n",
       " ('HDFC-Regalia-Credit-Card', 12.762499978176132),\n",
       " ('Standard-Chartered-Visa-Credit-Card', 12.672817236938924),\n",
       " ('HDFC-Bank-MoneyBack-Credit-Card', 11.8507007422415),\n",
       " ('HDFC-Bank-Visa-Credit-Card', 11.673992808041561),\n",
       " ('Axis-Bank-Visa-Credit-Card', 8.915268100888868),\n",
       " ('SBI-Simply-Click-Credit-Card', 6.772637672666263),\n",
       " ('SBI-SimplySave-Credit-Card', 6.742612070264229),\n",
       " ('American-Express-Gift-Card', 4.246268825513203),\n",
       " ('HDFC-Bank-ForexPlus-Card', 3.932002421460568),\n",
       " ('IndusInd-Visa-Credit-Card', 3.862207800949297),\n",
       " ('SBI-Prime-Credit-Card', 0.642113199003766)]"
      ]
     },
     "execution_count": 33,
     "metadata": {},
     "output_type": "execute_result"
    }
   ],
   "source": [
    "sentiment(kmeans_cluster_labels,df)"
   ]
  },
  {
   "cell_type": "code",
   "execution_count": 34,
   "metadata": {},
   "outputs": [
    {
     "name": "stdout",
     "output_type": "stream",
     "text": [
      "Ranked Banks Based on Sentiment Analysis and Frequency Distribution:\n",
      "1. IndianOil-Citibank-Credit-Card: 62.080809001224736\n",
      "2. Kotak-Mahindra-Bank-Visa-Credit-Card: 41.20590884874465\n",
      "3. RBL-Bank-Fun-Credit-Card: 28.796371351500305\n",
      "4. Citibank-Visa-Credit-Card: 22.328585974280465\n",
      "5. Bajaj-Finserv-RBL-Bank-SuperCard: 20.531800930802206\n",
      "6. SBI-Visa-Credit-Card: 20.42035951112472\n",
      "7. Tata-Card: 18.416839266993264\n",
      "8. Yes-Bank-American-Express-Credit-Card: 17.442548233517044\n",
      "9. HDFC-Regalia-Credit-Card: 16.466947711777916\n",
      "10. Standard-Chartered-Visa-Credit-Card: 15.408897917942438\n",
      "11. HDFC-Bank-MoneyBack-Credit-Card: 15.064161812818943\n",
      "12. HDFC-Bank-Visa-Credit-Card: 10.826719595835886\n",
      "13. American-Express-Gift-Card: 9.484198928352725\n",
      "14. Axis-Bank-Visa-Credit-Card: 8.225351305980812\n",
      "15. SBI-Simply-Click-Credit-Card: 8.20965140620535\n",
      "16. HDFC-Bank-ForexPlus-Card: 7.9230636099203915\n",
      "17. SBI-SimplySave-Credit-Card: 7.128608434782609\n",
      "18. IndusInd-Visa-Credit-Card: 4.6232718409879565\n",
      "19. ICICI-Bank-Visa-Credit-Card: 2.8128304041641137\n",
      "20. SBI-Prime-Credit-Card: 1.3131739130434783\n"
     ]
    },
    {
     "data": {
      "text/plain": [
       "[('IndianOil-Citibank-Credit-Card', 62.080809001224736),\n",
       " ('Kotak-Mahindra-Bank-Visa-Credit-Card', 41.20590884874465),\n",
       " ('RBL-Bank-Fun-Credit-Card', 28.796371351500305),\n",
       " ('Citibank-Visa-Credit-Card', 22.328585974280465),\n",
       " ('Bajaj-Finserv-RBL-Bank-SuperCard', 20.531800930802206),\n",
       " ('SBI-Visa-Credit-Card', 20.42035951112472),\n",
       " ('Tata-Card', 18.416839266993264),\n",
       " ('Yes-Bank-American-Express-Credit-Card', 17.442548233517044),\n",
       " ('HDFC-Regalia-Credit-Card', 16.466947711777916),\n",
       " ('Standard-Chartered-Visa-Credit-Card', 15.408897917942438),\n",
       " ('HDFC-Bank-MoneyBack-Credit-Card', 15.064161812818943),\n",
       " ('HDFC-Bank-Visa-Credit-Card', 10.826719595835886),\n",
       " ('American-Express-Gift-Card', 9.484198928352725),\n",
       " ('Axis-Bank-Visa-Credit-Card', 8.225351305980812),\n",
       " ('SBI-Simply-Click-Credit-Card', 8.20965140620535),\n",
       " ('HDFC-Bank-ForexPlus-Card', 7.9230636099203915),\n",
       " ('SBI-SimplySave-Credit-Card', 7.128608434782609),\n",
       " ('IndusInd-Visa-Credit-Card', 4.6232718409879565),\n",
       " ('ICICI-Bank-Visa-Credit-Card', 2.8128304041641137),\n",
       " ('SBI-Prime-Credit-Card', 1.3131739130434783)]"
      ]
     },
     "execution_count": 34,
     "metadata": {},
     "output_type": "execute_result"
    }
   ],
   "source": [
    "sentiment(hier_cluster_labels,df)"
   ]
  },
  {
   "cell_type": "code",
   "execution_count": 35,
   "metadata": {},
   "outputs": [
    {
     "name": "stdout",
     "output_type": "stream",
     "text": [
      "Ranked Banks Based on Sentiment Analysis and Frequency Distribution:\n",
      "1. IndianOil-Citibank-Credit-Card: 56.11113680129523\n",
      "2. Kotak-Mahindra-Bank-Visa-Credit-Card: 33.88310094302913\n",
      "3. SBI-Visa-Credit-Card: 30.700278839202355\n",
      "4. RBL-Bank-Fun-Credit-Card: 28.085702123484346\n",
      "5. Citibank-Visa-Credit-Card: 22.045199791110107\n",
      "6. Bajaj-Finserv-RBL-Bank-SuperCard: 21.243215782456268\n",
      "7. ICICI-Bank-Visa-Credit-Card: 19.610621540450833\n",
      "8. HDFC-Regalia-Credit-Card: 17.066752658810582\n",
      "9. Tata-Card: 16.632786086883875\n",
      "10. HDFC-Bank-MoneyBack-Credit-Card: 14.912507307065852\n",
      "11. Yes-Bank-American-Express-Credit-Card: 14.256828766276957\n",
      "12. American-Express-Gift-Card: 9.999431497563922\n",
      "13. Standard-Chartered-Visa-Credit-Card: 9.745049000935968\n",
      "14. HDFC-Bank-ForexPlus-Card: 9.019928978605432\n",
      "15. SBI-Simply-Click-Credit-Card: 8.507091553465436\n",
      "16. HDFC-Bank-Visa-Credit-Card: 8.482545336709684\n",
      "17. SBI-SimplySave-Credit-Card: 7.621498935003256\n",
      "18. Axis-Bank-Visa-Credit-Card: 5.569491736844484\n",
      "19. IndusInd-Visa-Credit-Card: 3.6066958179590727\n",
      "20. SBI-Prime-Credit-Card: 1.6102365028472465\n"
     ]
    },
    {
     "data": {
      "text/plain": [
       "[('IndianOil-Citibank-Credit-Card', 56.11113680129523),\n",
       " ('Kotak-Mahindra-Bank-Visa-Credit-Card', 33.88310094302913),\n",
       " ('SBI-Visa-Credit-Card', 30.700278839202355),\n",
       " ('RBL-Bank-Fun-Credit-Card', 28.085702123484346),\n",
       " ('Citibank-Visa-Credit-Card', 22.045199791110107),\n",
       " ('Bajaj-Finserv-RBL-Bank-SuperCard', 21.243215782456268),\n",
       " ('ICICI-Bank-Visa-Credit-Card', 19.610621540450833),\n",
       " ('HDFC-Regalia-Credit-Card', 17.066752658810582),\n",
       " ('Tata-Card', 16.632786086883875),\n",
       " ('HDFC-Bank-MoneyBack-Credit-Card', 14.912507307065852),\n",
       " ('Yes-Bank-American-Express-Credit-Card', 14.256828766276957),\n",
       " ('American-Express-Gift-Card', 9.999431497563922),\n",
       " ('Standard-Chartered-Visa-Credit-Card', 9.745049000935968),\n",
       " ('HDFC-Bank-ForexPlus-Card', 9.019928978605432),\n",
       " ('SBI-Simply-Click-Credit-Card', 8.507091553465436),\n",
       " ('HDFC-Bank-Visa-Credit-Card', 8.482545336709684),\n",
       " ('SBI-SimplySave-Credit-Card', 7.621498935003256),\n",
       " ('Axis-Bank-Visa-Credit-Card', 5.569491736844484),\n",
       " ('IndusInd-Visa-Credit-Card', 3.6066958179590727),\n",
       " ('SBI-Prime-Credit-Card', 1.6102365028472465)]"
      ]
     },
     "execution_count": 35,
     "metadata": {},
     "output_type": "execute_result"
    }
   ],
   "source": [
    "sentiment(birch_cluster_labels,df)"
   ]
  },
  {
   "cell_type": "code",
   "execution_count": 36,
   "metadata": {},
   "outputs": [
    {
     "name": "stdout",
     "output_type": "stream",
     "text": [
      "Ranked Banks Based on Sentiment Analysis and Frequency Distribution:\n",
      "1. IndianOil-Citibank-Credit-Card: 58.58288398788284\n",
      "2. SBI-Visa-Credit-Card: 37.361030499597774\n",
      "3. Kotak-Mahindra-Bank-Visa-Credit-Card: 34.99050027258668\n",
      "4. ICICI-Bank-Visa-Credit-Card: 25.16124069359732\n",
      "5. HDFC-Bank-MoneyBack-Credit-Card: 24.47800857355088\n",
      "6. Yes-Bank-American-Express-Credit-Card: 22.65744668366557\n",
      "7. Citibank-Visa-Credit-Card: 22.227833925391977\n",
      "8. Tata-Card: 20.462584645762142\n",
      "9. RBL-Bank-Fun-Credit-Card: 14.829235114115294\n",
      "10. Bajaj-Finserv-RBL-Bank-SuperCard: 12.490598855760524\n",
      "11. HDFC-Regalia-Credit-Card: 11.61535448244738\n",
      "12. American-Express-Gift-Card: 10.47468332892733\n",
      "13. HDFC-Bank-ForexPlus-Card: 10.237243435279169\n",
      "14. SBI-Simply-Click-Credit-Card: 7.442549259201529\n",
      "15. Standard-Chartered-Visa-Credit-Card: 6.663817632038304\n",
      "16. HDFC-Bank-Visa-Credit-Card: 6.213983093546542\n",
      "17. SBI-SimplySave-Credit-Card: 5.488872598314307\n",
      "18. Axis-Bank-Visa-Credit-Card: 4.400969088302859\n",
      "19. IndusInd-Visa-Credit-Card: 2.2691812815508614\n",
      "20. SBI-Prime-Credit-Card: 0.6620825484807193\n"
     ]
    },
    {
     "data": {
      "text/plain": [
       "[('IndianOil-Citibank-Credit-Card', 58.58288398788284),\n",
       " ('SBI-Visa-Credit-Card', 37.361030499597774),\n",
       " ('Kotak-Mahindra-Bank-Visa-Credit-Card', 34.99050027258668),\n",
       " ('ICICI-Bank-Visa-Credit-Card', 25.16124069359732),\n",
       " ('HDFC-Bank-MoneyBack-Credit-Card', 24.47800857355088),\n",
       " ('Yes-Bank-American-Express-Credit-Card', 22.65744668366557),\n",
       " ('Citibank-Visa-Credit-Card', 22.227833925391977),\n",
       " ('Tata-Card', 20.462584645762142),\n",
       " ('RBL-Bank-Fun-Credit-Card', 14.829235114115294),\n",
       " ('Bajaj-Finserv-RBL-Bank-SuperCard', 12.490598855760524),\n",
       " ('HDFC-Regalia-Credit-Card', 11.61535448244738),\n",
       " ('American-Express-Gift-Card', 10.47468332892733),\n",
       " ('HDFC-Bank-ForexPlus-Card', 10.237243435279169),\n",
       " ('SBI-Simply-Click-Credit-Card', 7.442549259201529),\n",
       " ('Standard-Chartered-Visa-Credit-Card', 6.663817632038304),\n",
       " ('HDFC-Bank-Visa-Credit-Card', 6.213983093546542),\n",
       " ('SBI-SimplySave-Credit-Card', 5.488872598314307),\n",
       " ('Axis-Bank-Visa-Credit-Card', 4.400969088302859),\n",
       " ('IndusInd-Visa-Credit-Card', 2.2691812815508614),\n",
       " ('SBI-Prime-Credit-Card', 0.6620825484807193)]"
      ]
     },
     "execution_count": 36,
     "metadata": {},
     "output_type": "execute_result"
    }
   ],
   "source": [
    "sentiment(bert_cluster_labels,df)"
   ]
  },
  {
   "cell_type": "code",
   "execution_count": null,
   "metadata": {},
   "outputs": [],
   "source": []
  }
 ],
 "metadata": {
  "kernelspec": {
   "display_name": "Python 3",
   "language": "python",
   "name": "python3"
  },
  "language_info": {
   "codemirror_mode": {
    "name": "ipython",
    "version": 3
   },
   "file_extension": ".py",
   "mimetype": "text/x-python",
   "name": "python",
   "nbconvert_exporter": "python",
   "pygments_lexer": "ipython3",
   "version": "3.12.2"
  }
 },
 "nbformat": 4,
 "nbformat_minor": 2
}
